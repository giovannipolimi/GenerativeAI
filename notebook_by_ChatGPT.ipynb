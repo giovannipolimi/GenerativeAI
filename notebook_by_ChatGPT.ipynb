{
  "metadata": {
    "language_info": {
      "name": "python",
      "version": "3.8.5"
    },
    "kernelspec": {
      "name": "python385",
      "display_name": "Python 3.8.5"
    }
  },
  "nbformat": 4,
  "nbformat_minor": 4,
  "cells": [
    {
      "cell_type": "markdown",
      "metadata": {},
      "source": [
        "# Test Chat GPT"
      ]
    },
    {
      "cell_type": "code",
      "execution_count": null,
      "metadata": {},
      "outputs": [],
      "source": [
        "import pandas as pd"
      ]
    },
    {
      "cell_type": "code",
      "execution_count": null,
      "metadata": {},
      "outputs": [],
      "source": [
        "FILE_PATH = 'your_file_path.csv'\n",
        "df = pd.read_csv(FILE_PATH)\n",
        "df.head()"
      ]
    }
  ]
}
